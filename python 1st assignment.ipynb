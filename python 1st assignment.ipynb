{
 "cells": [
  {
   "cell_type": "code",
   "execution_count": 1,
   "id": "471c19c2",
   "metadata": {},
   "outputs": [
    {
     "name": "stdout",
     "output_type": "stream",
     "text": [
      "Hello Python\n"
     ]
    }
   ],
   "source": [
    "# 1. Write a Python program to print &quot;Hello Python&quot;?\n",
    "print(\"Hello Python\")"
   ]
  },
  {
   "cell_type": "code",
   "execution_count": 2,
   "id": "5a02232b",
   "metadata": {},
   "outputs": [
    {
     "name": "stdout",
     "output_type": "stream",
     "text": [
      "first_number: 10\n",
      "second_number: 20\n",
      "add_or_div: add\n",
      "30\n"
     ]
    }
   ],
   "source": [
    "# 2. Write a Python program to do arithmetical operations addition and division.?\n",
    "first_number = int(input(\"first_number: \"))\n",
    "second_number = int(input(\"second_number: \"))\n",
    "add_or_div = input(\"add_or_div: \")\n",
    "if add_or_div == \"add\":\n",
    "    print(first_number + second_number)\n",
    "if add_or_div == \"div\":\n",
    "    print(first_number / second_number)"
   ]
  },
  {
   "cell_type": "code",
   "execution_count": 3,
   "id": "2786cd51",
   "metadata": {},
   "outputs": [
    {
     "name": "stdout",
     "output_type": "stream",
     "text": [
      "first_number: 10\n",
      "second_number: 20\n",
      "add_or_div: div\n",
      "0.5\n"
     ]
    }
   ],
   "source": [
    "# 2. Write a Python program to do arithmetical operations addition and division.?\n",
    "first_number = int(input(\"first_number: \"))\n",
    "second_number = int(input(\"second_number: \"))\n",
    "add_or_div = input(\"add_or_div: \")\n",
    "if add_or_div == \"add\":\n",
    "    print(first_number + second_number)\n",
    "if add_or_div == \"div\":\n",
    "    print(first_number / second_number)"
   ]
  },
  {
   "cell_type": "code",
   "execution_count": 4,
   "id": "76e67a23",
   "metadata": {},
   "outputs": [
    {
     "name": "stdout",
     "output_type": "stream",
     "text": [
      "height: 20\n",
      "base: 20\n",
      "200.0\n"
     ]
    }
   ],
   "source": [
    "# 3. Write a Python program to find the area of a triangle?\n",
    "# area of triangle formula : area = 0.5*height*base\n",
    "height = int(input(\"height: \"))\n",
    "base = int(input(\"base: \"))\n",
    "area_of_triangle = 0.5*height*base\n",
    "print(area_of_triangle)"
   ]
  },
  {
   "cell_type": "code",
   "execution_count": 10,
   "id": "5296262f",
   "metadata": {},
   "outputs": [
    {
     "name": "stdout",
     "output_type": "stream",
     "text": [
      "var1 : 100\n",
      "var : 200\n",
      "before swapping 100 200\n",
      "after swapping 200 100\n"
     ]
    }
   ],
   "source": [
    "# 4. Write a Python program to swap two variables?\n",
    "var1 = input(\"var1 : \")\n",
    "var2 = input(\"var : \")\n",
    "def swapnum(var1,var2):\n",
    "    temp = var1\n",
    "    var1 = var2\n",
    "    var2 = temp\n",
    "    return var1,var2\n",
    "    \n",
    "print(\"before swapping\", var1,var2)\n",
    "svar1,svar2 = swapnum(var1,var2)\n",
    "print(\"after swapping\",svar1,svar2)\n",
    "\n"
   ]
  },
  {
   "cell_type": "code",
   "execution_count": 12,
   "id": "991a8b46",
   "metadata": {},
   "outputs": [
    {
     "name": "stdout",
     "output_type": "stream",
     "text": [
      "92\n"
     ]
    }
   ],
   "source": [
    "# 5. Write a Python program to generate a random number?\n",
    "import random\n",
    "print(random.randint(0,100))\n"
   ]
  },
  {
   "cell_type": "code",
   "execution_count": 13,
   "id": "9f6dbf0a",
   "metadata": {},
   "outputs": [
    {
     "name": "stdout",
     "output_type": "stream",
     "text": [
      "75\n"
     ]
    }
   ],
   "source": [
    "# 5. Write a Python program to generate a random number?\n",
    "import random\n",
    "print(random.randint(0,100))"
   ]
  },
  {
   "cell_type": "code",
   "execution_count": 15,
   "id": "db8eefd4",
   "metadata": {},
   "outputs": [
    {
     "name": "stdout",
     "output_type": "stream",
     "text": [
      "44\n"
     ]
    }
   ],
   "source": [
    "# 5. Write a Python program to generate a random number?\n",
    "import random\n",
    "print(random.randint(0,100))"
   ]
  },
  {
   "cell_type": "code",
   "execution_count": null,
   "id": "d747b0f9",
   "metadata": {},
   "outputs": [],
   "source": []
  }
 ],
 "metadata": {
  "kernelspec": {
   "display_name": "Python 3 (ipykernel)",
   "language": "python",
   "name": "python3"
  },
  "language_info": {
   "codemirror_mode": {
    "name": "ipython",
    "version": 3
   },
   "file_extension": ".py",
   "mimetype": "text/x-python",
   "name": "python",
   "nbconvert_exporter": "python",
   "pygments_lexer": "ipython3",
   "version": "3.9.13"
  }
 },
 "nbformat": 4,
 "nbformat_minor": 5
}
